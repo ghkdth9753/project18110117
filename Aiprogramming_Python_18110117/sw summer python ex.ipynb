{
 "cells": [
  {
   "cell_type": "markdown",
   "id": "b4c46a9b",
   "metadata": {},
   "source": [
    "### 과제1-1 ###"
   ]
  },
  {
   "cell_type": "code",
   "execution_count": 5,
   "id": "c9b7b105",
   "metadata": {},
   "outputs": [
    {
     "name": "stdout",
     "output_type": "stream",
     "text": [
      "60 의 약수 = [1, 2, 3, 4, 5, 6, 10, 12, 15, 20, 30]\n",
      "28 의 약수 = [1, 2, 4, 7, 14]\n",
      "60과 28의 최대 공약수 = 4\n",
      "\n"
     ]
    }
   ],
   "source": [
    "def gcd_test(a, b) :\n",
    "    alist = []\n",
    "    blist = []\n",
    "    for i in range(1, a) :\n",
    "        if a % i == 0 :\n",
    "            alist.append(i)\n",
    "    for i in range(1, b) :\n",
    "        if b % i == 0 :\n",
    "            blist.append(i)\n",
    "    print(a, \"의 약수 =\", alist)\n",
    "    print(b, \"의 약수 =\", blist)\n",
    "        \n",
    "    for i in range(len(alist)-1, 0, -1) :\n",
    "        if alist[i] in blist :\n",
    "            return alist[i]\n",
    "            \n",
    "    return 1\n",
    "\n",
    "print(\"60과 28의 최대 공약수 =\", gcd_test(60, 28))\n",
    "print()"
   ]
  },
  {
   "cell_type": "markdown",
   "id": "e441015f",
   "metadata": {},
   "source": [
    "### 과제1-2 ###"
   ]
  },
  {
   "cell_type": "code",
   "execution_count": 12,
   "id": "b532f399",
   "metadata": {},
   "outputs": [
    {
     "name": "stdout",
     "output_type": "stream",
     "text": [
      "gcd (60, 28)\n",
      "gcd (28, 4)\n",
      "gcd (4, 0)\n",
      "60과 28의 최대 공약수 =  4\n",
      "\n"
     ]
    }
   ],
   "source": [
    "def gcd(a, b) :\n",
    "    print(\"gcd\", (a,b))\n",
    "    while b != 0 :\n",
    "        r = a % b\n",
    "        a = b\n",
    "        b = r\n",
    "        print(\"gcd\", (a,b))\n",
    "    return a\n",
    "\n",
    "print(\"60과 28의 최대 공약수 = \", gcd(60, 28))\n",
    "print()"
   ]
  },
  {
   "cell_type": "markdown",
   "id": "9f07565c",
   "metadata": {},
   "source": [
    "### 과제2-1 ###\n",
    "1. a 가 0인지 검사한다. 만약 0이면 2차 방정식이 아니므로 오류를 반환한다.\n",
    "2. det<-b2-4ac를 계산한다.\n",
    "3. det가 음수이면 허근이 나오므로 오류를 반환한다.\n",
    "4. det가 0이면 하나의 중근이 나오고, -b/2a를 반환한다.\n",
    "5. 두 개의 근 (-b+sqrt(det))/2a 와 (-b-sqrt(det))/2a를 반환한다."
   ]
  },
  {
   "cell_type": "markdown",
   "id": "0a9042a5",
   "metadata": {},
   "source": [
    "### 과제2-2 ###\n",
    "정확한 해를 구할수 없다.\n",
    "비슷한 값은 찾을수있지만 정확한 값은 구할 수 없다."
   ]
  },
  {
   "cell_type": "markdown",
   "id": "a2e04a7d",
   "metadata": {},
   "source": [
    "### 과제3-1 ###"
   ]
  },
  {
   "cell_type": "code",
   "execution_count": 9,
   "id": "2b3b0c7e",
   "metadata": {},
   "outputs": [
    {
     "name": "stdout",
     "output_type": "stream",
     "text": [
      "{'콩나물해장국': 4500, '갈비탕': 9000, '돈까스': 8000, '팟타이': 7000}\n"
     ]
    }
   ],
   "source": [
    "price = {\"콩나물해장국\":4500, \"갈비탕\":9000, \"돈까스\":8000}\n",
    "price[\"팟타이\"] = 7000\n",
    "print(price)"
   ]
  },
  {
   "cell_type": "markdown",
   "id": "74dfe886",
   "metadata": {},
   "source": [
    "### 과제3-2 ###"
   ]
  },
  {
   "cell_type": "code",
   "execution_count": 10,
   "id": "0065d8f3",
   "metadata": {},
   "outputs": [
    {
     "name": "stdout",
     "output_type": "stream",
     "text": [
      "문자열 입력:hello\n",
      "역순 문자열:olleh\n"
     ]
    }
   ],
   "source": [
    "import queue\n",
    "\n",
    "instr = input(\"문자열 입력:\")\n",
    "s = queue.LifoQueue()\n",
    "\n",
    "for ch in instr :\n",
    "    s.put(ch)\n",
    "print(\"역순 문자열:\", end=\"\")\n",
    "while not s.empty() :\n",
    "    print(s.get(), end=\"\")\n",
    "print()"
   ]
  },
  {
   "cell_type": "markdown",
   "id": "2b41d02e",
   "metadata": {},
   "source": [
    "### 과제4 ###\n",
    "1) 입력의 크기는 입력 리스트의 크기다. 기본 연산은 비교연산이다.<br>\n",
    "2) 입력의 크기는 입력 리스트의 크기다. 기본 연산은 더하기 연산이다.<br>\n",
    "3) 입력의 크기는 n 이다. 기본연산은 곱하기 연산이다.<br>\n",
    "4) 입력의 크기는 n 이다. 기본연산은 더하기 연산이다.<br>\n",
    "5) 입력의 크기는 2개이다. 기본연산은 나머지 연산이다.<br>\n",
    "6) 입력의 크기는 2개이다. 기본연산은 나머지 연산이다.<br>"
   ]
  },
  {
   "cell_type": "markdown",
   "id": "ae1e2303",
   "metadata": {},
   "source": [
    "### 과제5-1 ###\n",
    "1) O(n2) <br>\n",
    "2) O(n3) <br>\n",
    "3) O(n!) <br>"
   ]
  },
  {
   "cell_type": "markdown",
   "id": "f0473846",
   "metadata": {},
   "source": [
    "### 과제5-2 ###\n",
    "답 : n**2"
   ]
  },
  {
   "cell_type": "markdown",
   "id": "2ed3fde9",
   "metadata": {},
   "source": [
    "### 과제6 ###\n",
    "1) F(n) = F(n-1) + 2n-1<br>\n",
    "   F(1) = 1<br>\n",
    "=> n2을 구하는 알고리즘<br>\n",
    "<br>\n",
    "2) T(n) = T(n-1)+1, T(1) = 0, O(n) <br>"
   ]
  },
  {
   "cell_type": "markdown",
   "id": "9e1f0df7",
   "metadata": {},
   "source": [
    "### 과제7-1 ###\n",
    "A L G O R I Y H M <br>\n",
    "A G L O R I Y H M <br>\n",
    "A G H O R I Y L M <br>\n",
    "A G H I R O T L M <br>\n",
    "A G H I L O T R M <br>\n",
    "A G H I L M T R O <br>\n",
    "A G H I L M O R T <br>"
   ]
  },
  {
   "cell_type": "markdown",
   "id": "8b50edfa",
   "metadata": {},
   "source": [
    "### 과제7-2 ###\n",
    "이진탐색을 통해 개선할 수 있다."
   ]
  },
  {
   "cell_type": "markdown",
   "id": "0a692501",
   "metadata": {},
   "source": [
    "### 과제8-1 ###\n",
    "hamming distance\n",
    "=> 해밍거리는 곱집합 위에 정의되는 거리 함수이다."
   ]
  },
  {
   "cell_type": "markdown",
   "id": "4f880adb",
   "metadata": {},
   "source": [
    "### 과제8-2 ###\n",
    "1) dist(i, j) = |xi - xj| <br>\n",
    "2) 정렬한 후 인접 항목의 거리를 계산함. 시간복잡도가 O(nlog2n)로 줄어듦"
   ]
  },
  {
   "cell_type": "markdown",
   "id": "5927409c",
   "metadata": {},
   "source": [
    "### 과제9-1 ###"
   ]
  },
  {
   "cell_type": "code",
   "execution_count": 17,
   "id": "de41eff0",
   "metadata": {},
   "outputs": [
    {
     "ename": "IndentationError",
     "evalue": "unindent does not match any outer indentation level (<tokenize>, line 3)",
     "output_type": "error",
     "traceback": [
      "\u001b[1;36m  File \u001b[1;32m<tokenize>:3\u001b[1;36m\u001b[0m\n\u001b[1;33m    for i in range(n+1):\u001b[0m\n\u001b[1;37m    ^\u001b[0m\n\u001b[1;31mIndentationError\u001b[0m\u001b[1;31m:\u001b[0m unindent does not match any outer indentation level\n"
     ]
    }
   ],
   "source": [
    "def knapsack(W, wt, val, n):    \n",
    "    K = [[0 for x in range(W+1)] for x in range(n+1)]  \n",
    "    for i in range(n+1):        \n",
    "        for w in range(W+1):              \n",
    "            if i==0 or w==0:                  \n",
    "                K[i][w] = 0            \n",
    "            elif wt[i-1] <= w:                  \n",
    "                K[i][w] = max(val[i-1]+K[i-1][w-wt[i-1]], K[i-1][w]) \n",
    "                                \n",
    "            else:                \n",
    "                K[i][w] = K[i-1][w]    \n",
    "    return K[n][W]\n",
    "wt = []\n",
    "val = []\n",
    "N, K = map(int, sys.stdin.readline().strip().split())\n",
    "for i in range(N):    \n",
    "    w, v = map(int, sys.stdin.readline().strip().split())    \n",
    "    wt.append(w)    \n",
    "    val.append(v)\n",
    "print(knapsack(K, wt, val, N))\n"
   ]
  },
  {
   "cell_type": "markdown",
   "id": "6eecb327",
   "metadata": {},
   "source": [
    "### 과제9-2 ###\n",
    "1) A B D C E G H F <br>\n",
    "2) A B C D E F G H"
   ]
  },
  {
   "cell_type": "markdown",
   "id": "89f7a3ca",
   "metadata": {},
   "source": [
    "### 과제 10-1 ###\n",
    "1) A L G O R I T H M <br>\n",
    "2) A L G O R I T H M <br>\n",
    "3) A G L O R I T H M <br>\n",
    "4) A G L O R I T H M <br>\n",
    "5) A G L O R I T H M <br>\n",
    "6) A G I L O R T H M <br>\n",
    "7) A G I L O R T H M <br>\n",
    "8) A G H I L O R T M <br>\n",
    "9) A G H I L M O R T <br>"
   ]
  },
  {
   "cell_type": "markdown",
   "id": "e6ea1cbe",
   "metadata": {},
   "source": [
    "### 과제10-2 ###"
   ]
  },
  {
   "cell_type": "code",
   "execution_count": 20,
   "id": "837aa8e1",
   "metadata": {},
   "outputs": [],
   "source": [
    "def insertion_sort(A, n) :\n",
    "    for i in range(1, n-1) :\n",
    "        j = i-1\n",
    "        while j >=0 and A[j] > A[j+1] :\n",
    "            tmp = A[j]\n",
    "            A[j] = A[j+1]\n",
    "            A[j+1] = tmp\n",
    "            j = j-1\n",
    "# 알고리즘 4.3에 비해 효율이 좋다."
   ]
  },
  {
   "cell_type": "markdown",
   "id": "d9da7d8e",
   "metadata": {},
   "source": [
    "### 과제 11 ###\n",
    "1) A -> B -> C -> F -> G -> D -> E <br>\n",
    "2) A -> B -> C -> D -> E -> F -> G <br>"
   ]
  },
  {
   "cell_type": "markdown",
   "id": "22e591da",
   "metadata": {},
   "source": [
    "### 과제 12 ###\n",
    "2) 답 : 3번"
   ]
  },
  {
   "cell_type": "markdown",
   "id": "35b05f7c",
   "metadata": {},
   "source": [
    "### 과제 13-1 ###\n",
    "1) 12, 5, 7, 9, 18, 3, 8 <br>\n",
    "2) 12, 5, 7, 9, 8, 3, 18 <br>\n",
    "3) 3, 5 , 7, 9, 8 <br>\n",
    "4) 3, 5, 7, 9, 8 <br>\n",
    "5) 5, 7, 9, 8 <br>\n",
    "6) 5, 7, 9, 8 <br>\n",
    "7) 7, 9, 8 <br>\n",
    "8) 9, 8 <br>\n",
    "9) 8 <br>\n",
    "중앙값 = 8 <br>"
   ]
  },
  {
   "cell_type": "markdown",
   "id": "615c5f4a",
   "metadata": {},
   "source": [
    "### 과제 13-2 ###\n",
    "def quick_select_iter(a, left, right, k) : <br>\n",
    "&nbsp;&nbsp;while left <= right : <br>\n",
    "&nbsp;&nbsp;&nbsp;&nbsp;pivotindex = partition(a, left, right) <br>\n",
    "&nbsp;&nbsp;&nbsp;&nbsp;if pivotindex == k - 1 : <br>\n",
    "&nbsp;&nbsp;&nbsp;&nbsp;&nbsp;&nbsp;return a[pivotindex] <br>\n",
    "&nbsp;&nbsp;&nbsp;&nbsp;elif pivotindex > k - 1 : <br>\n",
    "&nbsp;&nbsp;&nbsp;&nbsp;&nbsp;&nbsp;right = pivotindex - 1 <br>\n",
    "&nbsp;&nbsp;&nbsp;&nbsp;else : <br>\n",
    "&nbsp;&nbsp;&nbsp;&nbsp;&nbsp;&nbsp;left = pivotindex + 1 <br>\n",
    "&nbsp;&nbsp;return -1 <br>"
   ]
  },
  {
   "cell_type": "markdown",
   "id": "eae7de8f",
   "metadata": {},
   "source": [
    "### 과제 14 ###\n",
    "1) 동전을 4개씩 3개의 그룹으로 나눈다.<br>\n",
    "2) 그룹마다 별칭을 붙여준다. (혹자는 x, y, z로 하겠다)<br>\n",
    "3) 2 그룹끼리 저울로 무게를 측정한다.<br>\n",
    "(만약 여기서 x, y 그룹끼리 무게를 비교했는데 같다면 z그룹이 불량이고\n",
    "x, y그룹끼리 서로 무게가 다르다면 두 그룹중에 1그룹이 불량이다.)<br>\n",
    "4) z 그룹이 불량이라면 z그룹의 동전 3개와 정상그룹의 동전3개를 저울로 재서\n",
    "무게를 비교한다.<br>\n",
    "(만약 z그룹의 무게가 더 무겁다면 가짜 동전이 더 무거운거고 z그룹의 무게가 더 가볍다면 가짜 동전이 더 가벼운거다.)<br>\n",
    "5) 만약 서로 무게가 같다면 z그룹의 나머지 동전 1개와 정상그룹의 동전 1개를 저울을 사용하여 무게를 비교한다.<br>\n",
    "(만약 z그룹의 동전이 더 무겁다면 가짜동전이 더 무거운거고 z그룹의 동전이 더 가볍다면 가짜동전이 더 가벼운거다.)<br>\n",
    "6) x, y그룹이 서로 무게가 다른 경우라면 서로 섞어서 무게를 비교한다.<br>"
   ]
  },
  {
   "cell_type": "markdown",
   "id": "59a77cb4",
   "metadata": {},
   "source": [
    "### 과제15-1 ###\n",
    "1) a=4, b=2, d=1 -> 세번째 경우 a>b**d -> O(nlog4)=O(n**2)<br>\n",
    "2) a=8, b=4, d=2 -> 첫번째 경우 a<b**d -> O(n**2)<br>"
   ]
  },
  {
   "cell_type": "markdown",
   "id": "68093b69",
   "metadata": {},
   "source": [
    "### 과제15-2 ###\n",
    "a=1, b=2, d=0 -> 두번째 경우 a=b**d -> O(n**0 log2n) = O(log2n)"
   ]
  },
  {
   "cell_type": "markdown",
   "id": "7a386f25",
   "metadata": {},
   "source": [
    "### 과제16-1 ###\n",
    "1) 7 4 9 6 3 8 7 2<br>\n",
    "2) 4 7 6 9 3 8 5 7<br>\n",
    "3) 4 6 7 9 3 5 7 8<br>\n",
    "4) 3 4 5 6 7 7 8 9<br>\n"
   ]
  },
  {
   "cell_type": "markdown",
   "id": "3443a730",
   "metadata": {},
   "source": [
    "### 과제16-2 ### "
   ]
  },
  {
   "cell_type": "code",
   "execution_count": 18,
   "id": "ba838a79",
   "metadata": {},
   "outputs": [
    {
     "ename": "SyntaxError",
     "evalue": "invalid syntax (4142912061.py, line 10)",
     "output_type": "error",
     "traceback": [
      "\u001b[1;36m  Input \u001b[1;32mIn [18]\u001b[1;36m\u001b[0m\n\u001b[1;33m    marge(a, left, mid, right)\u001b[0m\n\u001b[1;37m    ^\u001b[0m\n\u001b[1;31mSyntaxError\u001b[0m\u001b[1;31m:\u001b[0m invalid syntax\n"
     ]
    }
   ],
   "source": [
    "def marge_sort_iter(a) :\n",
    "    current_size = 1\n",
    "    while current_size < len(a) - 1 :\n",
    "        left = 0\n",
    "        while left < len(a)-1 :\n",
    "            mid = min((left + current_size - 1), (len(a)-1))\n",
    "            right = ((2 * current_size + left - 1,\n",
    "                     len(a)-1 [2*current_size\n",
    "                              + left - 1 > len(a)-1])\n",
    "            marge(a, left, mid, right)\n",
    "            left = left + current_size*2\n",
    "        current_size = 2 * current_size"
   ]
  },
  {
   "cell_type": "markdown",
   "id": "73850802",
   "metadata": {},
   "source": [
    "### 과제17 ###\n",
    "1) 71, 49, 92, 55, 38, 82, 72, 53<br>\n",
    "pivot=71, low=92, high=53<br>\n",
    "2) 71, 49, 53, 55, 38, 82, 72, 92<br>\n",
    "pivot=71, low=82, high=38 , 서로 엇갈려서 종료<br>\n",
    "pivot과 high을 서로 교환<br>\n",
    "3) 38, 49, 53, 55, 71, 82, 72, 92<br>\n",
    "=> pivot(71)을 제외하고 반반씩 쪼개서 또 같은 과정을 반복한다.<br>"
   ]
  },
  {
   "cell_type": "markdown",
   "id": "8e7cef5d",
   "metadata": {},
   "source": [
    "### 과제 18 ###\n",
    "1) 6 -> 4 -> 2 -> 1 -> 3 -> 5 -> 9 -> 7 -> 10 -> 8 -> 11 <br>\n",
    "2) 1 -> 2 -> 3 -> 4 -> 5 -> 6 -> 7 -> 9 -> 8 -> 10 -> 11 <br>\n",
    "3) 1 -> 3 -> 2 -> 5 -> 4 -> 7 -> 8 -> 11 -> 10 -> 9 -> 6 <br>"
   ]
  },
  {
   "cell_type": "markdown",
   "id": "9645a447",
   "metadata": {},
   "source": [
    "### 과제19 ###"
   ]
  },
  {
   "cell_type": "code",
   "execution_count": 19,
   "id": "6f77f2ca",
   "metadata": {},
   "outputs": [],
   "source": [
    "def count_leaf(n) :\n",
    "    if n is None : return 0\n",
    "    elif n.isLeaf() : return 1\n",
    "    else : return count_leaf(n.left) + count_leaf(n.right)"
   ]
  },
  {
   "cell_type": "markdown",
   "id": "6d85ded0",
   "metadata": {},
   "source": [
    "### 과제20 ###\n",
    "strip_closest() 에서 p.sort(key = lambda point: point[1]) 문장을 지운다.\n"
   ]
  }
 ],
 "metadata": {
  "kernelspec": {
   "display_name": "Python 3 (ipykernel)",
   "language": "python",
   "name": "python3"
  },
  "language_info": {
   "codemirror_mode": {
    "name": "ipython",
    "version": 3
   },
   "file_extension": ".py",
   "mimetype": "text/x-python",
   "name": "python",
   "nbconvert_exporter": "python",
   "pygments_lexer": "ipython3",
   "version": "3.9.12"
  }
 },
 "nbformat": 4,
 "nbformat_minor": 5
}
